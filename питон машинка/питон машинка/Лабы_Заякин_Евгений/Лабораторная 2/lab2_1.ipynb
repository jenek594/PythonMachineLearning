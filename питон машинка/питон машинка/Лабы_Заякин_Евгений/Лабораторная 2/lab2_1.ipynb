{
 "cells": [
  {
   "cell_type": "code",
   "execution_count": 1,
   "id": "f9cd088e",
   "metadata": {},
   "outputs": [],
   "source": [
    "import pandas as pd\n",
    "import numpy as np\n",
    "import matplotlib.pyplot as plt\n",
    "import scipy.stats as stats\n",
    "from statsmodels.stats.proportion import proportions_ztest"
   ]
  },
  {
   "cell_type": "markdown",
   "id": "5d17027d",
   "metadata": {},
   "source": [
    "### Задание 1\n",
    "Загрузите датасет из файла heart.csv со следующими полями (выборка об уровне сердечных заболеваний:\n",
    "<ul>\n",
    "<li>age : Возраст\n",
    "<li>sex : Пол (1 = мужской; 0 = женский)\n",
    "<li>cp : боль в груди (0 - типичная, 1 - асимптотическая, 2 - неангинальная, 3 - нетипичная).\n",
    "<li>trestbps : кровяное давление в состоянии покоя.\n",
    "<li>chol : холестерин сыворотки в мг/дл.\n",
    "<li>fbs : уровень сахара в крови натощак > 120 мг/дл (1 = верно; 0 = неверно)\n",
    "<li>restecg : результаты электрокардиографии в состоянии покоя\n",
    "<li>thalach : максимальная частота сердечных сокращений\n",
    "<li>exang : стенокардия, вызванная физической нагрузкой (1 = да; 0 = нет)\n",
    "<li>oldpeak : депрессия ST, вызванная нагрузкой по сравнению с отдыхом.\n",
    "<li>slope : Наклон пикового сегмента ST при нагрузке.\n",
    "<li>ca : количество крупных сосудов, окрашенных флюороскопически (0–3).\n",
    "<li>thal : (3 = нормально; 6 = фиксированный дефект; 7 = обратимый дефект)\n",
    "<li>target : АГД - Диагностика заболеваний сердца (1 = да; 0 = нет)\n",
    "</ul>\n",
    "<ol>\n",
    "<li>Выведите полученный датасет на экран\n",
    "<li>Пользуясь загруженным датасетом, подтвердите или опровергните гипотезу, что доля населения, страдающего сердечными заболеваниями в городе N, превышает 46% (выведите \"да\", если это так, и \"нет\" в противном случае). Также выведите на экран полученное значение p-value, округлив его до 6 знаков после запятой.\n",
    "</ol>    "
   ]
  },
  {
   "cell_type": "code",
   "execution_count": 2,
   "id": "78753d47",
   "metadata": {},
   "outputs": [
    {
     "name": "stdout",
     "output_type": "stream",
     "text": [
      "     age  sex  cp  trestbps  chol  fbs  restecg  thalach  exang  oldpeak  \\\n",
      "0     63    1   3       145   233    1        0      150      0      2.3   \n",
      "1     37    1   2       130   250    0        1      187      0      3.5   \n",
      "2     41    0   1       130   204    0        0      172      0      1.4   \n",
      "3     56    1   1       120   236    0        1      178      0      0.8   \n",
      "4     57    0   0       120   354    0        1      163      1      0.6   \n",
      "..   ...  ...  ..       ...   ...  ...      ...      ...    ...      ...   \n",
      "298   57    0   0       140   241    0        1      123      1      0.2   \n",
      "299   45    1   3       110   264    0        1      132      0      1.2   \n",
      "300   68    1   0       144   193    1        1      141      0      3.4   \n",
      "301   57    1   0       130   131    0        1      115      1      1.2   \n",
      "302   57    0   1       130   236    0        0      174      0      0.0   \n",
      "\n",
      "     slope  ca  thal  target  \n",
      "0        0   0     1       1  \n",
      "1        0   0     2       1  \n",
      "2        2   0     2       1  \n",
      "3        2   0     2       1  \n",
      "4        2   0     2       1  \n",
      "..     ...  ..   ...     ...  \n",
      "298      1   0     3       0  \n",
      "299      1   0     3       0  \n",
      "300      1   2     3       0  \n",
      "301      1   1     3       0  \n",
      "302      1   1     2       0  \n",
      "\n",
      "[303 rows x 14 columns]\n",
      "Да\n",
      "p_value =  0.544554\n"
     ]
    }
   ],
   "source": [
    "df = pd.read_csv('heart.csv')\n",
    "print(df)\n",
    "\n",
    "# Подсчет доли населения, страдающего сердечными заболеваниями\n",
    "population = len(df) # общая чиленность \n",
    "heart_hurt = len(df[df['target'] == 1]) # те кто страдают\n",
    "heart_hurt_dol = heart_hurt / population\n",
    "\n",
    "if heart_hurt_dol > 0.46:\n",
    "    print(\"Да\")                            # ну и отвечаем на поставленный вопрос\n",
    "else:\n",
    "    print(\"Нет\")\n",
    "\n",
    "print(\"p_value = \", round(heart_hurt_dol, 6))         # округляем до 6 знаков после запятой"
   ]
  },
  {
   "cell_type": "markdown",
   "id": "9f0182cc",
   "metadata": {},
   "source": [
    "### Задание 2\n",
    "Есть предположение, что среднее давление мужчин и женщин в состоянии покоя в городе N не отличается. Но некоторыми учеными была выдвинута гипотеза, что женщины имеют среднее давление выше чем мужины. Примите или опровергните альтернативную гипотезу. Для этого предварительно убедитесь, что генеральные совокупности имеют равные дисперсии и что обе выборки имеют распределение, близкое к нормальному (с помощью гистограммы). Выведите значение p-value, округлив до 6 знаков после запятой.\n"
   ]
  },
  {
   "cell_type": "code",
   "execution_count": 3,
   "id": "1937efeb",
   "metadata": {},
   "outputs": [
    {
     "name": "stdout",
     "output_type": "stream",
     "text": [
      "Дисперсии не равны, коррекция будет произведена.\n"
     ]
    },
    {
     "data": {
      "image/png": "[encoded data removed]",
      "text/plain": [
       "<Figure size 640x480 with 1 Axes>"
      ]
     },
     "metadata": {},
     "output_type": "display_data"
    },
    {
     "name": "stdout",
     "output_type": "stream",
     "text": [
      "Значение p-value:  0.324683\n",
      "Не отвергаем нулевую гипотезу. Нет статистического различия в среднем давлении между мужчинами и женщинами.\n"
     ]
    }
   ],
   "source": [
    "male_data = df[df['sex'] == 1]['trestbps']\n",
    "female_data = df[df['sex'] == 0]['trestbps']\n",
    "\n",
    "# Проверка дисперсий\n",
    "equal_var = True  # предположение о равенстве дисперсий\n",
    "if male_data.var() != female_data.var():\n",
    "    print(\"Дисперсии не равны, коррекция будет произведена.\")\n",
    "    equal_var = False\n",
    "\n",
    "# Построение гистограмм\n",
    "plt.hist(male_data, alpha=0.5, label='Мужчины')\n",
    "plt.hist(female_data, alpha=0.5, label='Женщины')\n",
    "plt.legend()\n",
    "plt.title('Распределение давления в состоянии покоя по полу')\n",
    "plt.show()\n",
    "\n",
    "# Проведение t-теста\n",
    "statistic, p_value = stats.ttest_ind(male_data, female_data, equal_var)\n",
    "\n",
    "# Вывод результатов\n",
    "print(\"Значение p-value: \", round(p_value, 6))\n",
    "\n",
    "# Принятие решения об отвержении/неотвержении альтернативной гипотезы\n",
    "if p_value < 0.05:\n",
    "    print(\"Отвергаем нулевую гипотезу. Существует статистическое различие в среднем давлении между мужчинами и женщинами.\")\n",
    "else:\n",
    "    print(\"Не отвергаем нулевую гипотезу. Нет статистического различия в среднем давлении между мужчинами и женщинами.\")"
   ]
  },
  {
   "cell_type": "markdown",
   "id": "3016ce42",
   "metadata": {},
   "source": [
    "### Задание 3\n",
    "Считается, что средний уровень холестерина среди населения старше 60 лет, равен 250. Была выдвинута гипотеза, что это не так (что она не равна 250). Примите или опровергните эту гипотезу.Выведите значени p-value."
   ]
  },
  {
   "cell_type": "code",
   "execution_count": 4,
   "id": "40a4149e",
   "metadata": {},
   "outputs": [
    {
     "name": "stdout",
     "output_type": "stream",
     "text": [
      "Значение p-value: 0.15876173897401408\n",
      "Не отвергаем нулевую гипотезу. Средний уровень холестерина равен 250.\n"
     ]
    }
   ],
   "source": [
    "# Выборка уровня холестерина среди населения старше 60 лет\n",
    "cholesterol_over_60 = df[df['age'] > 60]['chol']\n",
    "\n",
    "# Проведение одновыборочного t-теста\n",
    "statistic, p_value = stats.ttest_1samp(cholesterol_over_60, 250)\n",
    "\n",
    "# Вывод результатов\n",
    "print(\"Значение p-value:\", p_value)\n",
    "\n",
    "# Принятие решения об отвержении/неотвержении нулевой гипотезы\n",
    "if p_value < 0.05:\n",
    "    print(\"Отвергаем нулевую гипотезу. Средний уровень холестерина не равен 250.\")\n",
    "else:\n",
    "    print(\"Не отвергаем нулевую гипотезу. Средний уровень холестерина равен 250.\")"
   ]
  },
  {
   "cell_type": "markdown",
   "id": "64fd7807",
   "metadata": {},
   "source": [
    "### Задание 4\n",
    "Вычислите доверительный интервал с уровнем точности 95% для среднего значения максимальной частоты сердечных сокращений населения в городе N."
   ]
  },
  {
   "cell_type": "code",
   "execution_count": 5,
   "id": "4130cce8",
   "metadata": {},
   "outputs": [
    {
     "name": "stdout",
     "output_type": "stream",
     "text": [
      "Доверительный интервал (95%): (147.05743526626375, 152.23629410667357)\n"
     ]
    }
   ],
   "source": [
    "max_heart_rate = df['thalach']\n",
    "\n",
    "# Расчет среднего и стандартного отклонения\n",
    "mean_value = np.mean(max_heart_rate) #  среднеее\n",
    "std_dev = np.std(max_heart_rate, ddof=1)  # стандартное, ddof=1 для использования выборочной дисперсии\n",
    "# Расчет размера выборки\n",
    "sample_size = len(max_heart_rate)\n",
    "# Расчет стандартной ошибки среднего\n",
    "standard_error = std_dev / np.sqrt(sample_size)\n",
    "# наш уровень доверя\n",
    "confidence_level = 0.95\n",
    "# Расчет критического значения t\n",
    "t_critical = stats.t.ppf((1 + confidence_level) / 2, df=sample_size - 1)\n",
    "# Расчет доверительного интервала\n",
    "margin_of_error = t_critical * standard_error\n",
    "confidence_interval = (mean_value - margin_of_error, mean_value + margin_of_error)\n",
    "# Вывод результатов\n",
    "print(\"Доверительный интервал (95%):\", confidence_interval)"
   ]
  }
 ],
 "metadata": {
  "kernelspec": {
   "display_name": "Python 3 (ipykernel)",
   "language": "python",
   "name": "python3"
  },
  "language_info": {
   "codemirror_mode": {
    "name": "ipython",
    "version": 3
   },
   "file_extension": ".py",
   "mimetype": "text/x-python",
   "name": "python",
   "nbconvert_exporter": "python",
   "pygments_lexer": "ipython3",
   "version": "3.9.6"
  }
 },
 "nbformat": 4,
 "nbformat_minor": 5
}
